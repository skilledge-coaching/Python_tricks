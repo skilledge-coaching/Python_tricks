{
 "cells": [
  {
   "cell_type": "markdown",
   "metadata": {},
   "source": [
    "# Zip() Function"
   ]
  },
  {
   "cell_type": "markdown",
   "metadata": {},
   "source": [
    "Python's zip() function is a built-in function that is used to combine two or more iterables into a single iterable. This function takes in any number of iterables (lists, tuples, sets, etc.) as arguments and returns an iterator that aggregates elements from each of the iterables into tuples. Each tuple contains the i-th element from each of the input iterables."
   ]
  },
  {
   "cell_type": "markdown",
   "metadata": {},
   "source": [
    "Syntax: zip(*iterable)"
   ]
  },
  {
   "cell_type": "code",
   "execution_count": 1,
   "metadata": {},
   "outputs": [],
   "source": [
    "names = ['John', 'Alis', 'Kiran']\n",
    "age = (23,32,40)\n",
    "\n",
    "name_age_zip = zip(names,age)"
   ]
  },
  {
   "cell_type": "code",
   "execution_count": 2,
   "metadata": {},
   "outputs": [
    {
     "name": "stdout",
     "output_type": "stream",
     "text": [
      "<zip object at 0x0000026E93BE7500>\n"
     ]
    }
   ],
   "source": [
    "print(name_age_zip)"
   ]
  },
  {
   "cell_type": "code",
   "execution_count": 3,
   "metadata": {},
   "outputs": [],
   "source": [
    "name_age_list = list(zip(names,age))"
   ]
  },
  {
   "cell_type": "code",
   "execution_count": 4,
   "metadata": {},
   "outputs": [
    {
     "name": "stdout",
     "output_type": "stream",
     "text": [
      "[('John', 23), ('Alis', 32), ('Kiran', 40)]\n"
     ]
    }
   ],
   "source": [
    "print(name_age_list)"
   ]
  },
  {
   "cell_type": "code",
   "execution_count": 5,
   "metadata": {},
   "outputs": [
    {
     "name": "stdout",
     "output_type": "stream",
     "text": [
      "name: John, age: 23\n",
      "name: Alis, age: 32\n",
      "name: Kiran, age: 40\n"
     ]
    }
   ],
   "source": [
    "for i,j in name_age_list:\n",
    "    print(f\"name: {i}, age: {j}\")"
   ]
  },
  {
   "cell_type": "code",
   "execution_count": 6,
   "metadata": {},
   "outputs": [
    {
     "name": "stdout",
     "output_type": "stream",
     "text": [
      "The capital of USA is Washington D.C..\n",
      "The capital of India is New Delhi.\n",
      "The capital of Germany is Berlin.\n"
     ]
    }
   ],
   "source": [
    "countries = ['USA', 'India', 'Germany']\n",
    "capitals = ['Washington D.C.', 'New Delhi', 'Berlin']\n",
    "\n",
    "for country, capital in zip(countries, capitals):\n",
    "    print(f\"The capital of {country} is {capital}.\")"
   ]
  },
  {
   "cell_type": "markdown",
   "metadata": {},
   "source": [
    "# Thank You"
   ]
  }
 ],
 "metadata": {
  "kernelspec": {
   "display_name": "Python 3",
   "language": "python",
   "name": "python3"
  },
  "language_info": {
   "codemirror_mode": {
    "name": "ipython",
    "version": 3
   },
   "file_extension": ".py",
   "mimetype": "text/x-python",
   "name": "python",
   "nbconvert_exporter": "python",
   "pygments_lexer": "ipython3",
   "version": "3.12.6"
  }
 },
 "nbformat": 4,
 "nbformat_minor": 2
}
